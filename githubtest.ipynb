{
  "nbformat": 4,
  "nbformat_minor": 0,
  "metadata": {
    "colab": {
      "provenance": [],
      "authorship_tag": "ABX9TyOev+Xemij7LfiZD/HaHay7",
      "include_colab_link": true
    },
    "kernelspec": {
      "name": "python3",
      "display_name": "Python 3"
    },
    "language_info": {
      "name": "python"
    }
  },
  "cells": [
    {
      "cell_type": "markdown",
      "metadata": {
        "id": "view-in-github",
        "colab_type": "text"
      },
      "source": [
        "<a href=\"https://colab.research.google.com/github/naoruko/test01/blob/main/githubtest.ipynb\" target=\"_parent\"><img src=\"https://colab.research.google.com/assets/colab-badge.svg\" alt=\"Open In Colab\"/></a>"
      ]
    },
    {
      "cell_type": "code",
      "execution_count": 1,
      "metadata": {
        "colab": {
          "base_uri": "https://localhost:8080/"
        },
        "id": "xGtcMt3NQEXJ",
        "outputId": "64a11872-abf2-4557-bc45-d5eebad83655"
      },
      "outputs": [
        {
          "output_type": "stream",
          "name": "stdout",
          "text": [
            "1から100の間の数字を予想してください: 28\n",
            "もっと小さい数字です！\n",
            "1から100の間の数字を予想してください: 13\n",
            "もっと大きい数字です！\n",
            "1から100の間の数字を予想してください: 17\n",
            "もっと大きい数字です！\n",
            "1から100の間の数字を予想してください: 22\n",
            "もっと大きい数字です！\n",
            "1から100の間の数字を予想してください: 26\n",
            "正解！🎉\n"
          ]
        }
      ],
      "source": [
        "import random\n",
        "\n",
        "number = random.randint(1, 100)  # 1から100の間のランダムな数字を生成\n",
        "\n",
        "while True:\n",
        "    guess = int(input(\"1から100の間の数字を予想してください: \"))\n",
        "    if guess < number:\n",
        "        print(\"もっと大きい数字です！\")\n",
        "    elif guess > number:\n",
        "        print(\"もっと小さい数字です！\")\n",
        "    else:\n",
        "        print(\"正解！🎉\")\n",
        "        break\n"
      ]
    }
  ]
}